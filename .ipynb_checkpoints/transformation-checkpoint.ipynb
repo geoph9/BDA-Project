{
 "cells": [
  {
   "cell_type": "markdown",
   "metadata": {},
   "source": [
    "# Data Transformation"
   ]
  },
  {
   "cell_type": "markdown",
   "metadata": {},
   "source": [
    "## Basic imports"
   ]
  },
  {
   "cell_type": "code",
   "execution_count": 24,
   "metadata": {},
   "outputs": [],
   "source": [
    "import numpy as np\n",
    "import pandas as pd\n",
    "\n",
    "import ast"
   ]
  },
  {
   "cell_type": "markdown",
   "metadata": {},
   "source": [
    "## Load Data"
   ]
  },
  {
   "cell_type": "code",
   "execution_count": 14,
   "metadata": {},
   "outputs": [
    {
     "name": "stdout",
     "output_type": "stream",
     "text": [
      "Shape of dataframe: (1950, 17)\n"
     ]
    },
    {
     "data": {
      "text/html": [
       "<div>\n",
       "<style scoped>\n",
       "    .dataframe tbody tr th:only-of-type {\n",
       "        vertical-align: middle;\n",
       "    }\n",
       "\n",
       "    .dataframe tbody tr th {\n",
       "        vertical-align: top;\n",
       "    }\n",
       "\n",
       "    .dataframe thead th {\n",
       "        text-align: right;\n",
       "    }\n",
       "</style>\n",
       "<table border=\"1\" class=\"dataframe\">\n",
       "  <thead>\n",
       "    <tr style=\"text-align: right;\">\n",
       "      <th></th>\n",
       "      <th>match_id</th>\n",
       "      <th>radiant_score</th>\n",
       "      <th>dire_score</th>\n",
       "      <th>radiant_xp_adv</th>\n",
       "      <th>radiant_gold_adv</th>\n",
       "      <th>rad_team_id</th>\n",
       "      <th>rad_tag</th>\n",
       "      <th>dire_team_id</th>\n",
       "      <th>dire_team_id.1</th>\n",
       "      <th>dire_tag</th>\n",
       "      <th>hero_damage</th>\n",
       "      <th>hero_healing</th>\n",
       "      <th>obs_placed</th>\n",
       "      <th>kda</th>\n",
       "      <th>player_slot</th>\n",
       "      <th>region_x</th>\n",
       "      <th>region_y</th>\n",
       "    </tr>\n",
       "  </thead>\n",
       "  <tbody>\n",
       "    <tr>\n",
       "      <th>1466</th>\n",
       "      <td>4983800597</td>\n",
       "      <td>22</td>\n",
       "      <td>29</td>\n",
       "      <td>[0, 191, 43, 279, -68, -191, 358, -222, 624, 1...</td>\n",
       "      <td>[0, -269, -436, 313, 26, 115, -223, -451, 172,...</td>\n",
       "      <td>2586976</td>\n",
       "      <td>OG</td>\n",
       "      <td>15</td>\n",
       "      <td>15</td>\n",
       "      <td>PSG.LGD</td>\n",
       "      <td>42573</td>\n",
       "      <td>0</td>\n",
       "      <td>0.0</td>\n",
       "      <td>5</td>\n",
       "      <td>dire</td>\n",
       "      <td>Europe</td>\n",
       "      <td>China</td>\n",
       "    </tr>\n",
       "    <tr>\n",
       "      <th>996</th>\n",
       "      <td>4967996576</td>\n",
       "      <td>23</td>\n",
       "      <td>35</td>\n",
       "      <td>[0, 172, -85, -525, -836, -517, -915, -384, -9...</td>\n",
       "      <td>[0, 16, -436, -872, -1553, -1426, -1637, -1380...</td>\n",
       "      <td>6214538</td>\n",
       "      <td>Newbee</td>\n",
       "      <td>1838315</td>\n",
       "      <td>1838315</td>\n",
       "      <td>Secret</td>\n",
       "      <td>29819</td>\n",
       "      <td>5930</td>\n",
       "      <td>0.0</td>\n",
       "      <td>11</td>\n",
       "      <td>dire</td>\n",
       "      <td>North America</td>\n",
       "      <td>Europe</td>\n",
       "    </tr>\n",
       "    <tr>\n",
       "      <th>584</th>\n",
       "      <td>4973241356</td>\n",
       "      <td>52</td>\n",
       "      <td>27</td>\n",
       "      <td>[0, 122, 191, 67, -394, 314, 792, 1544, 738, 1...</td>\n",
       "      <td>[0, 183, -67, 172, -94, 681, 1266, 2192, 1487,...</td>\n",
       "      <td>726228</td>\n",
       "      <td>VG</td>\n",
       "      <td>2586976</td>\n",
       "      <td>2586976</td>\n",
       "      <td>OG</td>\n",
       "      <td>7611</td>\n",
       "      <td>9527</td>\n",
       "      <td>13.0</td>\n",
       "      <td>3</td>\n",
       "      <td>radiant</td>\n",
       "      <td>China</td>\n",
       "      <td>Europe</td>\n",
       "    </tr>\n",
       "    <tr>\n",
       "      <th>84</th>\n",
       "      <td>4971031352</td>\n",
       "      <td>14</td>\n",
       "      <td>28</td>\n",
       "      <td>[0, 19, 373, -248, -547, -817, -996, -1275, -1...</td>\n",
       "      <td>[0, -450, -159, -349, -591, -911, -1221, -1941...</td>\n",
       "      <td>2672298</td>\n",
       "      <td>Infamous</td>\n",
       "      <td>39</td>\n",
       "      <td>39</td>\n",
       "      <td>EG</td>\n",
       "      <td>23224</td>\n",
       "      <td>0</td>\n",
       "      <td>1.0</td>\n",
       "      <td>1</td>\n",
       "      <td>radiant</td>\n",
       "      <td>South America</td>\n",
       "      <td>North America</td>\n",
       "    </tr>\n",
       "    <tr>\n",
       "      <th>756</th>\n",
       "      <td>4971219223</td>\n",
       "      <td>24</td>\n",
       "      <td>12</td>\n",
       "      <td>[0, -277, -256, -175, -642, -410, 277, 107, -3...</td>\n",
       "      <td>[0, -41, 24, -41, -335, -378, -560, -357, -672...</td>\n",
       "      <td>2163</td>\n",
       "      <td>Liquid</td>\n",
       "      <td>111474</td>\n",
       "      <td>111474</td>\n",
       "      <td>Alliance</td>\n",
       "      <td>5803</td>\n",
       "      <td>0</td>\n",
       "      <td>0.0</td>\n",
       "      <td>1</td>\n",
       "      <td>dire</td>\n",
       "      <td>Europe</td>\n",
       "      <td>Europe</td>\n",
       "    </tr>\n",
       "  </tbody>\n",
       "</table>\n",
       "</div>"
      ],
      "text/plain": [
       "        match_id  radiant_score  dire_score  \\\n",
       "1466  4983800597             22          29   \n",
       "996   4967996576             23          35   \n",
       "584   4973241356             52          27   \n",
       "84    4971031352             14          28   \n",
       "756   4971219223             24          12   \n",
       "\n",
       "                                         radiant_xp_adv  \\\n",
       "1466  [0, 191, 43, 279, -68, -191, 358, -222, 624, 1...   \n",
       "996   [0, 172, -85, -525, -836, -517, -915, -384, -9...   \n",
       "584   [0, 122, 191, 67, -394, 314, 792, 1544, 738, 1...   \n",
       "84    [0, 19, 373, -248, -547, -817, -996, -1275, -1...   \n",
       "756   [0, -277, -256, -175, -642, -410, 277, 107, -3...   \n",
       "\n",
       "                                       radiant_gold_adv  rad_team_id  \\\n",
       "1466  [0, -269, -436, 313, 26, 115, -223, -451, 172,...      2586976   \n",
       "996   [0, 16, -436, -872, -1553, -1426, -1637, -1380...      6214538   \n",
       "584   [0, 183, -67, 172, -94, 681, 1266, 2192, 1487,...       726228   \n",
       "84    [0, -450, -159, -349, -591, -911, -1221, -1941...      2672298   \n",
       "756   [0, -41, 24, -41, -335, -378, -560, -357, -672...         2163   \n",
       "\n",
       "       rad_tag  dire_team_id  dire_team_id.1  dire_tag  hero_damage  \\\n",
       "1466        OG            15              15   PSG.LGD        42573   \n",
       "996     Newbee       1838315         1838315    Secret        29819   \n",
       "584         VG       2586976         2586976        OG         7611   \n",
       "84    Infamous            39              39        EG        23224   \n",
       "756     Liquid        111474          111474  Alliance         5803   \n",
       "\n",
       "      hero_healing  obs_placed  kda player_slot       region_x       region_y  \n",
       "1466             0         0.0    5        dire         Europe          China  \n",
       "996           5930         0.0   11        dire  North America         Europe  \n",
       "584           9527        13.0    3     radiant          China         Europe  \n",
       "84               0         1.0    1     radiant  South America  North America  \n",
       "756              0         0.0    1        dire         Europe         Europe  "
      ]
     },
     "execution_count": 14,
     "metadata": {},
     "output_type": "execute_result"
    }
   ],
   "source": [
    "ti9_path = \"../ti9_full.csv\"\n",
    "ti = pd.read_csv(ti9_path)\n",
    "print(f\"Shape of dataframe: {ti.shape}\")\n",
    "ti.sample(5)  # show 5 random entries"
   ]
  },
  {
   "cell_type": "code",
   "execution_count": 13,
   "metadata": {},
   "outputs": [
    {
     "data": {
      "text/plain": [
       "'There are 195 matches in total.'"
      ]
     },
     "execution_count": 13,
     "metadata": {},
     "output_type": "execute_result"
    }
   ],
   "source": [
    "match_ids = pd.unique(ti.match_id)\n",
    "f\"There are {len(match_ids)} matches in total.\""
   ]
  },
  {
   "cell_type": "markdown",
   "metadata": {},
   "source": [
    "## Define Performance Score\n",
    "\n",
    "Based on Rongzhi's slides.\n",
    "\n",
    "I have separated each calculation in separate functions to make them more readable."
   ]
  },
  {
   "cell_type": "code",
   "execution_count": 17,
   "metadata": {},
   "outputs": [],
   "source": [
    "def _score_gap(match_id, df):\n",
    "    # NOTE: This is not normalized (we will probably normalize the whole dataset later so it is okay).\n",
    "    score = df[df.match_id==match_id][['radiant_score', 'dire_score']].values\n",
    "    return score[0] - score[1]  # will be negative if radiant lost. if they won, it will be positive"
   ]
  },
  {
   "cell_type": "code",
   "execution_count": 26,
   "metadata": {},
   "outputs": [],
   "source": [
    "def _xp_gap(match_id, df, use_weights=True):\n",
    "    # Take the sum of the xp advantages (over all minutes)\n",
    "    # NOTE: This is probably not what Rongzhi mentioned in his slides but I couldn't understand what \"10minutes xp advantage\" meant\n",
    "    xp_list = np.array(ast.literal_eval(pd.unique(df[df.match_id==match_id].radiant_xp_adv)[0]))\n",
    "    # A negative sum would mean that the radiant team was on a disantage most of the times\n",
    "    if use_weights:\n",
    "        # IDEA: the last few minutes are more important and so we should give a greater weight to these\n",
    "        weights = np.linspace(0.1, 1, num=len(xp_list))  # start from 0.1 in order to avoid zeros\n",
    "        xp_list_weighted = weights * xp_list\n",
    "        return np.sum(xp_list_weighted)\n",
    "    return np.sum(xp_list)"
   ]
  },
  {
   "cell_type": "code",
   "execution_count": 28,
   "metadata": {},
   "outputs": [],
   "source": [
    "def _gold_advantage(match_id, df, use_weights=True):  # Maybe we could use only the final gold advantage as Rongzhi said\n",
    "    # Probably gold is more important than xp (especially in lengthy matches)\n",
    "    gold_list = np.array(ast.literal_eval(pd.unique(df[df.match_id==match_id].radiant_gold_adv)[0]))\n",
    "    # A negative sum would mean that the radiant team had less gold for most of the game\n",
    "    if use_weights:\n",
    "        weights = np.linspace(0.1, 1, num=len(gold_list))  # start from 0.1 in order to avoid zeros\n",
    "        gold_list_weighted = weights * gold_list\n",
    "        return np.sum(gold_list_weighted)\n",
    "    return np.sum(xp_list)"
   ]
  },
  {
   "cell_type": "code",
   "execution_count": null,
   "metadata": {},
   "outputs": [],
   "source": [
    "# Idea: Hero damage and healing is specific to the type of player. For example if a player is a support then it is more\n",
    "#       probable for them to heal than to have high damage. Maybe there is a way to take advantage of that?\n",
    "def _hero_specific_scores(match_id, df):  # hero damage and hero healing\n",
    "    match = df[df.match_id==match_id]\n",
    "    radiant_stats = match[match.player_slot=='radiant']  # for each player (length of 5)\n",
    "    dire_stats = match[match.player_slot=='dire']  # for each player (length of 5)\n",
    "    assert radiant_stats.shape == dire_stats.shape, f\"Match {match_id} consisted of uneven teams.\"  # in case of bad data\n",
    "    radiant = {\n",
    "        \"damage\": radiant_stats['hero_damage'].values, \n",
    "        \"healing\": radiant_stats['hero_healing'].values,\n",
    "        \"kda\": radiant_stats['kda'].values,\n",
    "        \"wards\": radiant_stats['obs_placed'].values,\n",
    "    }  # will contain the damage and healing scores for the radiant players\n",
    "    dire = {\n",
    "        \"damage\": dire_stats['hero_damage'].values, \n",
    "        \"healing\": dire_stats['hero_healing'].values,\n",
    "        \"kda\": dire_stats['kda'].values,\n",
    "        \"wards\": dire_stats['obs_placed'].values,\n",
    "    }\n",
    "#     # Case 1: get the max hero damage and max hero healing\n",
    "#     radiant_damage = np.max(radiant['damage'])\n",
    "#     dire_damage = np.max(dire['damage'])\n",
    "#     radiant_healing = np.max(radiant['healing'])\n",
    "#     dire_healing = np.max(dire['healing'])\n",
    "#     radiant_kda = np.max(radiant['kda'])\n",
    "#     dire_kda = np.max(dire['kda'])\n",
    "#     radiant_wards = np.max(radiant['wards'])\n",
    "#     dire_wards = np.max(dire['wards'])\n",
    "#     return (radiant_damage, radiant_healing, radiant_kda, radiant_wards,\n",
    "#             dire_damage, dire_healing, dire_kda, dire_wards)\n",
    "#     # Case 2: get the sum of hero damages and max hero healings (probably better than the above)\n",
    "#     radiant_damage_score = np.sum(radiant['damage'])\n",
    "#     dire_damage_score = np.sum(dire['damage'])\n",
    "#     radiant_healing_score = np.sum(radiant['healing'])\n",
    "#     dire_healing_score = np.sum(dire['healing'])\n",
    "#     radiant_kda_score = np.sum(radiant['kda'])\n",
    "#     dire_kda_score = np.sum(dire['kda'])\n",
    "#     radiant_wards = np.sum(radiant['wards'])\n",
    "#     dire_wards = np.sum(dire['wards'])\n",
    "#     return (radiant_damage, radiant_healing, radiant_kda, radiant_wards,\n",
    "#             dire_damage, dire_healing, dire_kda, dire_wards)\n",
    "    # Case 3: Use the diffence of the sums for each team (maybe that's the best one)\n",
    "    dmg_diff = np.sum(radiant['damage']) - np.sum(dire['damage'])\n",
    "    heal_diff = np.sum(radiant['healing']) - np.sum(dire['healing'])\n",
    "    kda_diff = np.sum(radiant['kda']) - np.sum(dire['kda'])\n",
    "    wards_diff = np.sum(radiant['wards']) - np.sum(dire['wards'])\n",
    "    return dmg_diff, heal_diff, kda_diff, wards_diff"
   ]
  },
  {
   "cell_type": "code",
   "execution_count": null,
   "metadata": {},
   "outputs": [],
   "source": [
    "def performance(match_id, df):\n",
    "    score_gap = _score_gap(match_id, df)\n",
    "    xp_gap = _xp_gap(match_id, df, use_weights=True)\n",
    "    gold_adv = _gold_advantage(match_id, df, use_weights=True)\n",
    "#     # case 1, 2 above\n",
    "#     rad_dmg, rad_heal, rad_kda, rad_wards, dire_dmg, dire_heal, dire_kda, dire_wards = _hero_specific_score(match_id, df)\n",
    "    dmg_diff, heal_diff, kda_diff, wards_diff = _hero_specific_score(match_id, df)  # case 3\n",
    "    return score_gap, xp_gap, gold_adv, dmg_diff, heal_diff, kda_diff, wards_diff"
   ]
  },
  {
   "cell_type": "markdown",
   "metadata": {},
   "source": [
    "### Create a DF for each match with their performance scores\n",
    "\n",
    "I use case 3 from the `_hero_specific_score` method."
   ]
  },
  {
   "cell_type": "code",
   "execution_count": 32,
   "metadata": {},
   "outputs": [
    {
     "data": {
      "text/plain": [
       "{'match_id': [],\n",
       " 'score_gap': [],\n",
       " 'xp_gap': [],\n",
       " 'gold_adv': [],\n",
       " 'dmg_diff': [],\n",
       " 'heal_diff': [],\n",
       " 'kda_diff': [],\n",
       " 'wards_diff': []}"
      ]
     },
     "execution_count": 32,
     "metadata": {},
     "output_type": "execute_result"
    }
   ],
   "source": [
    "# Dictionary that will contain the values\n",
    "cols = [\"match_id\", \"score_gap\", \"xp_gap\", \"gold_adv\", \"dmg_diff\", \"heal_diff\", \"kda_diff\", \"wards_diff\"]\n",
    "matches = dict.fromkeys(cols, [])\n",
    "matches"
   ]
  },
  {
   "cell_type": "code",
   "execution_count": null,
   "metadata": {},
   "outputs": [],
   "source": [
    "for match_id in match_ids:\n",
    "    # A tuple of length len(cols)-1  (does not have the 'match_id')\n",
    "    perf = performance(match_id, ti)\n",
    "    for i, col in enumerate(cols):\n",
    "        if col==\"match_id\":\n",
    "            matches['match_id'].append(match_id)\n",
    "            continue\n",
    "        matches[col].append(perf[i-1])  # since i=1 belongs to \"match_id\""
   ]
  },
  {
   "cell_type": "code",
   "execution_count": null,
   "metadata": {},
   "outputs": [],
   "source": []
  }
 ],
 "metadata": {
  "kernelspec": {
   "display_name": "Python (SR)",
   "language": "python",
   "name": "sr"
  },
  "language_info": {
   "codemirror_mode": {
    "name": "ipython",
    "version": 3
   },
   "file_extension": ".py",
   "mimetype": "text/x-python",
   "name": "python",
   "nbconvert_exporter": "python",
   "pygments_lexer": "ipython3",
   "version": "3.8.6"
  }
 },
 "nbformat": 4,
 "nbformat_minor": 4
}
