{
 "cells": [
  {
   "cell_type": "code",
   "execution_count": 296,
   "metadata": {},
   "outputs": [],
   "source": [
    "#import sys\n",
    "#!{sys.executable} -m pip install lxml"
   ]
  },
  {
   "cell_type": "code",
   "execution_count": 297,
   "metadata": {},
   "outputs": [],
   "source": [
    "import requests\n",
    "from bs4 import BeautifulSoup\n",
    "import re\n",
    "import pandas as pd\n",
    "from io import StringIO\n",
    "import time\n",
    "import json\n",
    "import numpy as np\n",
    "import requests\n",
    "from lxml import html"
   ]
  },
  {
   "cell_type": "markdown",
   "metadata": {},
   "source": [
    "# part 1: dotabuff"
   ]
  },
  {
   "cell_type": "markdown",
   "metadata": {},
   "source": [
    "at first, i collect matches id.<br>\n",
    "tournament: the international 2019 (group stage and main event).<br>"
   ]
  },
  {
   "cell_type": "code",
   "execution_count": 44,
   "metadata": {},
   "outputs": [],
   "source": [
    "# collect all the mentions of matches\n",
    "matches_span = []\n",
    "\n",
    "for i in range(1,11):\n",
    "    url = \"https://www.dotabuff.com/esports/events/284-ti9-group-main/matches?original_slug=284-ti9-group-main&page=\" + str(i)\n",
    "    page = requests.get(url, headers={'user-agent':'Mozilla/5.0'})\n",
    "    soup = BeautifulSoup(page.content, 'html.parser')\n",
    "    match_span = soup.find_all(\"td\", class_=\"cell-mediumlarge\")\n",
    "    matches_span += match_span\n",
    "    "
   ]
  },
  {
   "cell_type": "code",
   "execution_count": 46,
   "metadata": {},
   "outputs": [],
   "source": [
    "# filter only matches mentions\n",
    "matches_id = []\n",
    "\n",
    "for match in matches_span:\n",
    "    match_id = re.findall(r\"\\/[0-9]+\", str(match))\n",
    "    matches_id += match_id"
   ]
  },
  {
   "cell_type": "code",
   "execution_count": 48,
   "metadata": {},
   "outputs": [],
   "source": [
    "# fix matches\n",
    "matches_id = list(set(matches_id))\n",
    "\n",
    "ids = \"\"\n",
    "for game in matches_id:\n",
    "    game_id = game[1:]\n",
    "    ids = ids + \"\\n\" + game_id\n",
    "    \n",
    "ids = \"match_id\" + \"\\n\" + ids\n",
    "ids1 = StringIO(ids)"
   ]
  },
  {
   "cell_type": "code",
   "execution_count": 49,
   "metadata": {},
   "outputs": [],
   "source": [
    "# create df\n",
    "df = pd.read_csv(ids1, sep =\";\") \n",
    "\n",
    "# write df\n",
    "df.to_csv(r\"/Users/eyumarch/Documents/BDA/ti9_ids.csv\", index=False)"
   ]
  },
  {
   "cell_type": "markdown",
   "metadata": {},
   "source": [
    "# part 2. opendota"
   ]
  },
  {
   "cell_type": "markdown",
   "metadata": {},
   "source": [
    "now, it is time to collect all the variables we are going to analyse :)"
   ]
  },
  {
   "cell_type": "code",
   "execution_count": 51,
   "metadata": {},
   "outputs": [],
   "source": [
    "# open df with matches id\n",
    "df = pd.read_csv(r\"/Users/eyumarch/Documents/BDA/ti9_ids.csv\")  "
   ]
  },
  {
   "cell_type": "code",
   "execution_count": 52,
   "metadata": {},
   "outputs": [],
   "source": [
    "# collect all data for the matches\n",
    "matches = []\n",
    "\n",
    "for match in df.match_id:\n",
    "    url = \"https://api.opendota.com/api/matches/\" + str(match)\n",
    "    page = requests.get(url, headers={'user-agent':'Mozilla/5.0'})\n",
    "    match_data = page.json()\n",
    "    matches.append(match_data)\n",
    "    time.sleep(1)"
   ]
  },
  {
   "cell_type": "code",
   "execution_count": 55,
   "metadata": {},
   "outputs": [],
   "source": [
    "# write json\n",
    "with open(r\"/Users/eyumarch/Documents/BDA/ti9_json.json\", 'w') as fout:\n",
    "    json.dump(matches, fout)"
   ]
  },
  {
   "cell_type": "markdown",
   "metadata": {},
   "source": [
    "json above is unfiltered, but we do not need all of these variables. so, now it is to filter smth!"
   ]
  },
  {
   "cell_type": "code",
   "execution_count": 260,
   "metadata": {},
   "outputs": [],
   "source": [
    "ti9 = pd.DataFrame()\n",
    "\n",
    "for i in range(len(matches)):\n",
    "    match = pd.DataFrame.transpose(pd.DataFrame(list(matches[i].items())))\n",
    "    match = match.rename(columns=match.iloc[0]).drop(match.index[0])\n",
    "    \n",
    "    # players\n",
    "    players_df = pd.DataFrame()\n",
    "    for player in match.players[1]:\n",
    "        a = pd.DataFrame.transpose(pd.DataFrame(list(player.items())))\n",
    "        a = a.rename(columns=a.iloc[0]).drop(a.index[0])\n",
    "        a = a[['match_id', 'hero_damage', 'hero_healing', 'obs_placed', 'kda', 'player_slot']]\n",
    "        players_df = players_df.append(a)\n",
    "\n",
    "    # radiant team info\n",
    "    try:\n",
    "        rad_t = pd.DataFrame.transpose(pd.DataFrame(list(match.radiant_team[1].items())))\n",
    "        rad_t = rad_t.rename(columns=rad_t.iloc[0]).drop(rad_t.index[0])\n",
    "        rad_t = rad_t[[\"name\", \"team_id\", \"tag\"]]\n",
    "        rad_t = rad_t.rename(columns={'team_id': 'rad_team_id', 'tag': 'rad_tag'})\n",
    "    except:\n",
    "        pass\n",
    "\n",
    "    # dire team info\n",
    "    try:\n",
    "        dire_t = pd.DataFrame.transpose(pd.DataFrame(list(match.dire_team[1].items())))\n",
    "        dire_t = dire_t.rename(columns=dire_t.iloc[0]).drop(dire_t.index[0])\n",
    "        dire_t = dire_t[[\"name\", \"team_id\", \"tag\"]]\n",
    "        dire_t = dire_t.rename(columns={'team_id': 'dire_team_id', 'tag': 'dire_tag'})\n",
    "    except:\n",
    "        pass\n",
    "    \n",
    "    teams = pd.concat([rad_t.reset_index(drop=True), dire_t.reset_index(drop=True)], axis=1)\n",
    "    \n",
    "    # add team\n",
    "    match = pd.concat([match.reset_index(drop=True), teams.reset_index(drop=True)], axis=1)\n",
    "\n",
    "    # add players\n",
    "    match = pd.merge(match, players_df, on='match_id', how='left')\n",
    "    \n",
    "    # take only needed columns\n",
    "    match = match[['match_id', 'radiant_score', 'dire_score', 'radiant_xp_adv', 'radiant_gold_adv', 'rad_team_id', 'rad_tag', 'dire_team_id', 'dire_tag', 'hero_damage', 'hero_healing', 'obs_placed', 'kda', 'player_slot']]\n",
    "    \n",
    "    # add final\n",
    "    ti9 = ti9.append(match)"
   ]
  },
  {
   "cell_type": "code",
   "execution_count": 261,
   "metadata": {},
   "outputs": [],
   "source": [
    "ti9 = pd.DataFrame(ti9)"
   ]
  },
  {
   "cell_type": "code",
   "execution_count": 262,
   "metadata": {},
   "outputs": [
    {
     "data": {
      "text/html": [
       "<div>\n",
       "<style scoped>\n",
       "    .dataframe tbody tr th:only-of-type {\n",
       "        vertical-align: middle;\n",
       "    }\n",
       "\n",
       "    .dataframe tbody tr th {\n",
       "        vertical-align: top;\n",
       "    }\n",
       "\n",
       "    .dataframe thead th {\n",
       "        text-align: right;\n",
       "    }\n",
       "</style>\n",
       "<table border=\"1\" class=\"dataframe\">\n",
       "  <thead>\n",
       "    <tr style=\"text-align: right;\">\n",
       "      <th></th>\n",
       "      <th>match_id</th>\n",
       "      <th>radiant_score</th>\n",
       "      <th>dire_score</th>\n",
       "      <th>radiant_xp_adv</th>\n",
       "      <th>radiant_gold_adv</th>\n",
       "      <th>rad_team_id</th>\n",
       "      <th>rad_tag</th>\n",
       "      <th>dire_team_id</th>\n",
       "      <th>dire_team_id</th>\n",
       "      <th>dire_tag</th>\n",
       "      <th>hero_damage</th>\n",
       "      <th>hero_healing</th>\n",
       "      <th>obs_placed</th>\n",
       "      <th>kda</th>\n",
       "      <th>player_slot</th>\n",
       "    </tr>\n",
       "  </thead>\n",
       "  <tbody>\n",
       "    <tr>\n",
       "      <th>0</th>\n",
       "      <td>4978701632</td>\n",
       "      <td>14</td>\n",
       "      <td>26</td>\n",
       "      <td>[0, -140, 288, 1025, 1423, 823, 1219, 763, 115...</td>\n",
       "      <td>[0, 368, 1303, 2166, 2636, 1959, 2690, 2641, 3...</td>\n",
       "      <td>1838315</td>\n",
       "      <td>Secret</td>\n",
       "      <td>39</td>\n",
       "      <td>39</td>\n",
       "      <td>EG</td>\n",
       "      <td>9112</td>\n",
       "      <td>0</td>\n",
       "      <td>14</td>\n",
       "      <td>1</td>\n",
       "      <td>0</td>\n",
       "    </tr>\n",
       "    <tr>\n",
       "      <th>1</th>\n",
       "      <td>4978701632</td>\n",
       "      <td>14</td>\n",
       "      <td>26</td>\n",
       "      <td>[0, -140, 288, 1025, 1423, 823, 1219, 763, 115...</td>\n",
       "      <td>[0, 368, 1303, 2166, 2636, 1959, 2690, 2641, 3...</td>\n",
       "      <td>1838315</td>\n",
       "      <td>Secret</td>\n",
       "      <td>39</td>\n",
       "      <td>39</td>\n",
       "      <td>EG</td>\n",
       "      <td>8190</td>\n",
       "      <td>2990</td>\n",
       "      <td>5</td>\n",
       "      <td>4</td>\n",
       "      <td>1</td>\n",
       "    </tr>\n",
       "    <tr>\n",
       "      <th>2</th>\n",
       "      <td>4978701632</td>\n",
       "      <td>14</td>\n",
       "      <td>26</td>\n",
       "      <td>[0, -140, 288, 1025, 1423, 823, 1219, 763, 115...</td>\n",
       "      <td>[0, 368, 1303, 2166, 2636, 1959, 2690, 2641, 3...</td>\n",
       "      <td>1838315</td>\n",
       "      <td>Secret</td>\n",
       "      <td>39</td>\n",
       "      <td>39</td>\n",
       "      <td>EG</td>\n",
       "      <td>32333</td>\n",
       "      <td>0</td>\n",
       "      <td>0</td>\n",
       "      <td>2</td>\n",
       "      <td>2</td>\n",
       "    </tr>\n",
       "    <tr>\n",
       "      <th>3</th>\n",
       "      <td>4978701632</td>\n",
       "      <td>14</td>\n",
       "      <td>26</td>\n",
       "      <td>[0, -140, 288, 1025, 1423, 823, 1219, 763, 115...</td>\n",
       "      <td>[0, 368, 1303, 2166, 2636, 1959, 2690, 2641, 3...</td>\n",
       "      <td>1838315</td>\n",
       "      <td>Secret</td>\n",
       "      <td>39</td>\n",
       "      <td>39</td>\n",
       "      <td>EG</td>\n",
       "      <td>15081</td>\n",
       "      <td>0</td>\n",
       "      <td>0</td>\n",
       "      <td>1</td>\n",
       "      <td>3</td>\n",
       "    </tr>\n",
       "    <tr>\n",
       "      <th>4</th>\n",
       "      <td>4978701632</td>\n",
       "      <td>14</td>\n",
       "      <td>26</td>\n",
       "      <td>[0, -140, 288, 1025, 1423, 823, 1219, 763, 115...</td>\n",
       "      <td>[0, 368, 1303, 2166, 2636, 1959, 2690, 2641, 3...</td>\n",
       "      <td>1838315</td>\n",
       "      <td>Secret</td>\n",
       "      <td>39</td>\n",
       "      <td>39</td>\n",
       "      <td>EG</td>\n",
       "      <td>9993</td>\n",
       "      <td>0</td>\n",
       "      <td>0</td>\n",
       "      <td>0</td>\n",
       "      <td>4</td>\n",
       "    </tr>\n",
       "  </tbody>\n",
       "</table>\n",
       "</div>"
      ],
      "text/plain": [
       "     match_id radiant_score dire_score  \\\n",
       "0  4978701632            14         26   \n",
       "1  4978701632            14         26   \n",
       "2  4978701632            14         26   \n",
       "3  4978701632            14         26   \n",
       "4  4978701632            14         26   \n",
       "\n",
       "                                      radiant_xp_adv  \\\n",
       "0  [0, -140, 288, 1025, 1423, 823, 1219, 763, 115...   \n",
       "1  [0, -140, 288, 1025, 1423, 823, 1219, 763, 115...   \n",
       "2  [0, -140, 288, 1025, 1423, 823, 1219, 763, 115...   \n",
       "3  [0, -140, 288, 1025, 1423, 823, 1219, 763, 115...   \n",
       "4  [0, -140, 288, 1025, 1423, 823, 1219, 763, 115...   \n",
       "\n",
       "                                    radiant_gold_adv rad_team_id rad_tag  \\\n",
       "0  [0, 368, 1303, 2166, 2636, 1959, 2690, 2641, 3...     1838315  Secret   \n",
       "1  [0, 368, 1303, 2166, 2636, 1959, 2690, 2641, 3...     1838315  Secret   \n",
       "2  [0, 368, 1303, 2166, 2636, 1959, 2690, 2641, 3...     1838315  Secret   \n",
       "3  [0, 368, 1303, 2166, 2636, 1959, 2690, 2641, 3...     1838315  Secret   \n",
       "4  [0, 368, 1303, 2166, 2636, 1959, 2690, 2641, 3...     1838315  Secret   \n",
       "\n",
       "  dire_team_id dire_team_id dire_tag hero_damage hero_healing obs_placed kda  \\\n",
       "0           39           39       EG        9112            0         14   1   \n",
       "1           39           39       EG        8190         2990          5   4   \n",
       "2           39           39       EG       32333            0          0   2   \n",
       "3           39           39       EG       15081            0          0   1   \n",
       "4           39           39       EG        9993            0          0   0   \n",
       "\n",
       "  player_slot  \n",
       "0           0  \n",
       "1           1  \n",
       "2           2  \n",
       "3           3  \n",
       "4           4  "
      ]
     },
     "execution_count": 262,
     "metadata": {},
     "output_type": "execute_result"
    }
   ],
   "source": [
    "ti9.head()"
   ]
  },
  {
   "cell_type": "code",
   "execution_count": 275,
   "metadata": {},
   "outputs": [],
   "source": [
    "ti9['player_slot'] = np.where(ti9['player_slot']<= 127, \"radiant\", \"dire\")"
   ]
  },
  {
   "cell_type": "code",
   "execution_count": 277,
   "metadata": {},
   "outputs": [],
   "source": [
    "# write df\n",
    "ti9.to_csv(r\"/Users/eyumarch/Documents/BDA/ti9_no.csv\", index=False)"
   ]
  },
  {
   "cell_type": "markdown",
   "metadata": {},
   "source": [
    "# part 3. regions"
   ]
  },
  {
   "cell_type": "markdown",
   "metadata": {},
   "source": [
    "the last info we need is region of the team"
   ]
  },
  {
   "cell_type": "code",
   "execution_count": 310,
   "metadata": {},
   "outputs": [],
   "source": [
    "# all unique teams\n",
    "t1 = pd.unique(ti9.rad_tag).tolist()\n",
    "t2 = pd.unique(ti9.dire_tag).tolist()\n",
    "t = pd.unique(t1 + t2).tolist()"
   ]
  },
  {
   "cell_type": "code",
   "execution_count": 320,
   "metadata": {},
   "outputs": [],
   "source": [
    "# regions\n",
    "regions = pd.DataFrame(columns = [\"rad_tag\", \"region\"])\n",
    "\n",
    "regions.rad_tag = t\n",
    "regions.region = [\"Europe\", \"Europe\", \"Southeast Asia\", \"CIS\", \"China\", \"Southeast Asia\", \"South America\", \"Europe\", \"CIS\", \"Southeast Asia\", \"Europe\", \"Europe\", \"China\", \"China\", \"Europe\", \"North America\", \"China\", \"North America\"]"
   ]
  },
  {
   "cell_type": "code",
   "execution_count": 321,
   "metadata": {},
   "outputs": [],
   "source": [
    "# add regions\n",
    "ti9 = pd.merge(ti9, regions, on='rad_tag', how='left')"
   ]
  },
  {
   "cell_type": "code",
   "execution_count": 323,
   "metadata": {},
   "outputs": [],
   "source": [
    "# regions\n",
    "regions = pd.DataFrame(columns = [\"dire_tag\", \"region\"])\n",
    "\n",
    "regions.dire_tag = t\n",
    "regions.region = [\"Europe\", \"Europe\", \"Southeast Asia\", \"CIS\", \"China\", \"Southeast Asia\", \"South America\", \"Europe\", \"CIS\", \"Southeast Asia\", \"Europe\", \"Europe\", \"China\", \"China\", \"Europe\", \"North America\", \"China\", \"North America\"]"
   ]
  },
  {
   "cell_type": "code",
   "execution_count": 324,
   "metadata": {},
   "outputs": [],
   "source": [
    "# add regions\n",
    "ti9 = pd.merge(ti9, regions, on='dire_tag', how='left')"
   ]
  },
  {
   "cell_type": "code",
   "execution_count": 325,
   "metadata": {},
   "outputs": [],
   "source": [
    "# write final version\n",
    "ti9.to_csv(r\"/Users/eyumarch/Documents/BDA/ti9_full.csv\", index=False)"
   ]
  },
  {
   "cell_type": "code",
   "execution_count": null,
   "metadata": {},
   "outputs": [],
   "source": []
  }
 ],
 "metadata": {
  "kernelspec": {
   "display_name": "Python 3",
   "language": "python",
   "name": "python3"
  },
  "language_info": {
   "codemirror_mode": {
    "name": "ipython",
    "version": 3
   },
   "file_extension": ".py",
   "mimetype": "text/x-python",
   "name": "python",
   "nbconvert_exporter": "python",
   "pygments_lexer": "ipython3",
   "version": "3.7.6"
  }
 },
 "nbformat": 4,
 "nbformat_minor": 4
}
